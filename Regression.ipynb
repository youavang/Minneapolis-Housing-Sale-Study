{
 "cells": [
  {
   "cell_type": "code",
   "execution_count": 2,
   "metadata": {},
   "outputs": [
    {
     "name": "stderr",
     "output_type": "stream",
     "text": [
      "C:\\Users\\jas\\AppData\\Local\\Continuum\\anaconda3\\lib\\site-packages\\pandas\\core\\generic.py:6287: SettingWithCopyWarning: \n",
      "A value is trying to be set on a copy of a slice from a DataFrame\n",
      "\n",
      "See the caveats in the documentation: http://pandas.pydata.org/pandas-docs/stable/user_guide/indexing.html#returning-a-view-versus-a-copy\n",
      "  self._update_inplace(new_data)\n",
      "C:\\Users\\jas\\AppData\\Local\\Continuum\\anaconda3\\lib\\site-packages\\sklearn\\utils\\deprecation.py:66: DeprecationWarning: Class Imputer is deprecated; Imputer was deprecated in version 0.20 and will be removed in 0.22. Import impute.SimpleImputer from sklearn instead.\n",
      "  warnings.warn(msg, category=DeprecationWarning)\n",
      "C:\\Users\\jas\\AppData\\Local\\Continuum\\anaconda3\\lib\\site-packages\\sklearn\\preprocessing\\_encoders.py:415: FutureWarning: The handling of integer data will change in version 0.22. Currently, the categories are determined based on the range [0, max(values)], while in the future they will be determined based on the unique values.\n",
      "If you want the future behaviour and silence this warning, you can specify \"categories='auto'\".\n",
      "In case you used a LabelEncoder before this OneHotEncoder to convert the categories to integers, then you can now use the OneHotEncoder directly.\n",
      "  warnings.warn(msg, FutureWarning)\n",
      "C:\\Users\\jas\\AppData\\Local\\Continuum\\anaconda3\\lib\\site-packages\\sklearn\\preprocessing\\_encoders.py:451: DeprecationWarning: The 'categorical_features' keyword is deprecated in version 0.20 and will be removed in 0.22. You can use the ColumnTransformer instead.\n",
      "  \"use the ColumnTransformer instead.\", DeprecationWarning)\n"
     ]
    }
   ],
   "source": [
    "import numpy as np\n",
    "import matplotlib.pyplot as plt\n",
    "import pandas as pd\n",
    "\n",
    "#dataset = pd.read_csv('Master_File_Housing_Data_LogisticReg.csv')\n",
    "dataset = pd.read_csv('Master_File_Housing_Data.csv')\n",
    "\n",
    "df= dataset.dropna(how='any', subset=['CONSTRUCTIONTYPE'])\n",
    "df['BELOWGROUNDAREA'].fillna(0,inplace=True)\n",
    "\n",
    "X = df.iloc[:,2:-2].values\n",
    "y = df.iloc[:,13].values\n",
    "\n",
    "from sklearn.preprocessing import Imputer\n",
    "imputer = Imputer(missing_values=np.nan, strategy='mean') \n",
    "imputer.fit(X[:,[1,3,5,6,7,8,10]])\n",
    "X[:,[1,3,5,6,7,8,10]]= imputer.transform(X[:,[1,3,5,6,7,8,10]])\n",
    "\n",
    "#print(X[0])\n",
    "from sklearn.preprocessing import LabelEncoder, OneHotEncoder\n",
    "labelencoder = LabelEncoder()\n",
    "X[:, 0] = labelencoder.fit_transform(X[:, 0])\n",
    "X[:, 9] = labelencoder.fit_transform(X[:, 9])\n",
    "\n",
    "from sklearn.preprocessing import OneHotEncoder\n",
    "onehotencoder = OneHotEncoder(categorical_features = [0,9])\n",
    "data = onehotencoder.fit_transform(X).toarray()\n",
    "#print(data[0])\n",
    "NewData = data[:,[0,1,2,3,4,5,6,8,9,10,11,12,14,15,16,17,18,19,20,21,22,23,24,25]]\n",
    "\n",
    "X_sig = NewData[:,[0,1,2,3,4,5,6,7,8,9,10,11,12,13,14,15,17,19,21,22,23]]\n",
    "\n",
    "from sklearn.model_selection import train_test_split\n",
    "X_train, X_test, y_train, y_test = train_test_split(X_sig,y,test_size=0.3,random_state=0)\n",
    "\n",
    "from sklearn.preprocessing import StandardScaler\n",
    "sc_X = StandardScaler()\n",
    "X_train = sc_X.fit_transform(X_train)\n",
    "X_test = sc_X.transform(X_test)\n",
    "\n"
   ]
  },
  {
   "cell_type": "code",
   "execution_count": 3,
   "metadata": {},
   "outputs": [
    {
     "name": "stdout",
     "output_type": "stream",
     "text": [
      "MultipleRegression:  0.8355390116130667\n"
     ]
    }
   ],
   "source": [
    "#Fitting Multiple Linear Regression to Training Set\n",
    "from sklearn.linear_model import LinearRegression\n",
    "mlrObj = LinearRegression()\n",
    "mlrObj.fit(X_train,y_train)\n",
    "\n",
    "#Predicting on the Test Set\n",
    "y_pred = mlrObj.predict(X_test)\n",
    "\n",
    "print('MultipleRegression: ', mlrObj.score(X_test,y_test))"
   ]
  },
  {
   "cell_type": "markdown",
   "metadata": {},
   "source": [
    "### Compare actual sale price vs predicted sale price."
   ]
  },
  {
   "cell_type": "code",
   "execution_count": 4,
   "metadata": {},
   "outputs": [
    {
     "data": {
      "text/html": [
       "<div>\n",
       "<style scoped>\n",
       "    .dataframe tbody tr th:only-of-type {\n",
       "        vertical-align: middle;\n",
       "    }\n",
       "\n",
       "    .dataframe tbody tr th {\n",
       "        vertical-align: top;\n",
       "    }\n",
       "\n",
       "    .dataframe thead th {\n",
       "        text-align: right;\n",
       "    }\n",
       "</style>\n",
       "<table border=\"1\" class=\"dataframe\">\n",
       "  <thead>\n",
       "    <tr style=\"text-align: right;\">\n",
       "      <th></th>\n",
       "      <th>Actual</th>\n",
       "      <th>Predicted</th>\n",
       "    </tr>\n",
       "  </thead>\n",
       "  <tbody>\n",
       "    <tr>\n",
       "      <td>0</td>\n",
       "      <td>259580</td>\n",
       "      <td>252548</td>\n",
       "    </tr>\n",
       "    <tr>\n",
       "      <td>1</td>\n",
       "      <td>209100</td>\n",
       "      <td>218447</td>\n",
       "    </tr>\n",
       "    <tr>\n",
       "      <td>2</td>\n",
       "      <td>165000</td>\n",
       "      <td>185902</td>\n",
       "    </tr>\n",
       "    <tr>\n",
       "      <td>3</td>\n",
       "      <td>187000</td>\n",
       "      <td>150646</td>\n",
       "    </tr>\n",
       "    <tr>\n",
       "      <td>4</td>\n",
       "      <td>725000</td>\n",
       "      <td>610900</td>\n",
       "    </tr>\n",
       "    <tr>\n",
       "      <td>...</td>\n",
       "      <td>...</td>\n",
       "      <td>...</td>\n",
       "    </tr>\n",
       "    <tr>\n",
       "      <td>1701</td>\n",
       "      <td>260000</td>\n",
       "      <td>224992</td>\n",
       "    </tr>\n",
       "    <tr>\n",
       "      <td>1702</td>\n",
       "      <td>200750</td>\n",
       "      <td>203376</td>\n",
       "    </tr>\n",
       "    <tr>\n",
       "      <td>1703</td>\n",
       "      <td>1.83e+06</td>\n",
       "      <td>1.81337e+06</td>\n",
       "    </tr>\n",
       "    <tr>\n",
       "      <td>1704</td>\n",
       "      <td>345300</td>\n",
       "      <td>398511</td>\n",
       "    </tr>\n",
       "    <tr>\n",
       "      <td>1705</td>\n",
       "      <td>355000</td>\n",
       "      <td>386329</td>\n",
       "    </tr>\n",
       "  </tbody>\n",
       "</table>\n",
       "<p>1706 rows × 2 columns</p>\n",
       "</div>"
      ],
      "text/plain": [
       "        Actual    Predicted\n",
       "0       259580       252548\n",
       "1       209100       218447\n",
       "2       165000       185902\n",
       "3       187000       150646\n",
       "4       725000       610900\n",
       "...        ...          ...\n",
       "1701    260000       224992\n",
       "1702    200750       203376\n",
       "1703  1.83e+06  1.81337e+06\n",
       "1704    345300       398511\n",
       "1705    355000       386329\n",
       "\n",
       "[1706 rows x 2 columns]"
      ]
     },
     "execution_count": 4,
     "metadata": {},
     "output_type": "execute_result"
    }
   ],
   "source": [
    "np.set_printoptions(suppress=True)\n",
    "\n",
    "this = df = pd.DataFrame({'Actual': y_test, 'Predicted': y_pred})\n",
    "df.apply(lambda s: s.apply(lambda x: format(x, 'g')))"
   ]
  },
  {
   "cell_type": "code",
   "execution_count": 5,
   "metadata": {},
   "outputs": [
    {
     "name": "stdout",
     "output_type": "stream",
     "text": [
      "PCA 2 components = 0.6982314207547364\n",
      "PCA 1 components = 0.360148245444772\n",
      "PCA None components = 0.8355390116130667\n"
     ]
    }
   ],
   "source": [
    "#Applying PCA\n",
    "from sklearn.decomposition import PCA\n",
    "pcaObj = PCA(n_components=2)\n",
    "X_trainPCA = pcaObj.fit_transform(X_train)\n",
    "X_testPCA = pcaObj.transform(X_test)\n",
    "components_variance = pcaObj.explained_variance_ratio_\n",
    "\n",
    "#Fitting Linear Regression\n",
    "from sklearn.linear_model import LinearRegression\n",
    "pmlrObj_sig = LinearRegression()\n",
    "pmlrObj_sig.fit(X_trainPCA, y_train)\n",
    "\n",
    "y_sig_pred = pmlrObj_sig.predict(X_testPCA)\n",
    "\n",
    "print('PCA 2 components =', pmlrObj_sig.score(X_testPCA,y_test))\n",
    "\n",
    "#Applying PCA - 1 component\n",
    "from sklearn.decomposition import PCA\n",
    "pcaObj = PCA(n_components=1)\n",
    "X_trainPCA = pcaObj.fit_transform(X_train)\n",
    "X_testPCA = pcaObj.transform(X_test)\n",
    "components_variance = pcaObj.explained_variance_ratio_\n",
    "\n",
    "#Fitting Linear Regression\n",
    "from sklearn.linear_model import LinearRegression\n",
    "pmlrObj_sig = LinearRegression()\n",
    "pmlrObj_sig.fit(X_trainPCA, y_train)\n",
    "\n",
    "y_sig_pred = pmlrObj_sig.predict(X_testPCA)\n",
    "\n",
    "print('PCA 1 components =', pmlrObj_sig.score(X_testPCA,y_test))\n",
    "\n",
    "#Applying PCA - None components\n",
    "from sklearn.decomposition import PCA\n",
    "pcaObj = PCA(n_components=None)\n",
    "X_trainPCA = pcaObj.fit_transform(X_train)\n",
    "X_testPCA = pcaObj.transform(X_test)\n",
    "components_variance = pcaObj.explained_variance_ratio_\n",
    "\n",
    "#Fitting Linear Regression\n",
    "from sklearn.linear_model import LinearRegression\n",
    "pmlrObj_sig = LinearRegression()\n",
    "pmlrObj_sig.fit(X_trainPCA, y_train)\n",
    "\n",
    "y_sig_pred = pmlrObj_sig.predict(X_testPCA)\n",
    "\n",
    "print('PCA None components =', pmlrObj_sig.score(X_testPCA,y_test))"
   ]
  },
  {
   "cell_type": "code",
   "execution_count": 6,
   "metadata": {},
   "outputs": [
    {
     "name": "stdout",
     "output_type": "stream",
     "text": [
      "K-PCA 2 components = 0.23239410122622062\n",
      "K-PCA 1 components = 0.19516286587304799\n",
      "K-PCA None components = -1606415950.3145885\n"
     ]
    }
   ],
   "source": [
    "#kernel PCA \n",
    "from sklearn.decomposition import KernelPCA \n",
    "kernelPCAObj = KernelPCA(n_components=2, kernel='rbf') \n",
    "X_trainKPCA = kernelPCAObj.fit_transform(X_train) \n",
    "X_testKPCA = kernelPCAObj.transform(X_test)\n",
    "\n",
    "#Fitting Linear Regression\n",
    "from sklearn.linear_model import LinearRegression\n",
    "pmlrObj_sig = LinearRegression()\n",
    "pmlrObj_sig.fit(X_trainKPCA, y_train)\n",
    "\n",
    "y_sig_pred_kpca = pmlrObj_sig.predict(X_testKPCA)\n",
    "\n",
    "print('K-PCA 2 components =', pmlrObj_sig.score(X_testKPCA,y_test))\n",
    "\n",
    "#kernel PCA \n",
    "from sklearn.decomposition import KernelPCA \n",
    "kernelPCAObj = KernelPCA(n_components=1, kernel='rbf') \n",
    "X_trainKPCA = kernelPCAObj.fit_transform(X_train) \n",
    "X_testKPCA = kernelPCAObj.transform(X_test)\n",
    "\n",
    "#Fitting Linear Regression\n",
    "from sklearn.linear_model import LinearRegression\n",
    "pmlrObj_sig = LinearRegression()\n",
    "pmlrObj_sig.fit(X_trainKPCA, y_train)\n",
    "\n",
    "y_sig_pred_kpca = pmlrObj_sig.predict(X_testKPCA)\n",
    "print('K-PCA 1 components =', pmlrObj_sig.score(X_testKPCA,y_test))\n",
    "\n",
    "#kernel PCA \n",
    "from sklearn.decomposition import KernelPCA \n",
    "kernelPCAObj = KernelPCA(n_components=None, kernel='rbf') \n",
    "X_trainKPCA = kernelPCAObj.fit_transform(X_train) \n",
    "X_testKPCA = kernelPCAObj.transform(X_test)\n",
    "\n",
    "#Fitting Linear Regression\n",
    "from sklearn.linear_model import LinearRegression\n",
    "pmlrObj_sig = LinearRegression()\n",
    "pmlrObj_sig.fit(X_trainKPCA, y_train)\n",
    "\n",
    "y_sig_pred_kpca = pmlrObj_sig.predict(X_testKPCA)\n",
    "print('K-PCA None components =', pmlrObj_sig.score(X_testKPCA,y_test))"
   ]
  },
  {
   "cell_type": "code",
   "execution_count": 32,
   "metadata": {},
   "outputs": [
    {
     "name": "stderr",
     "output_type": "stream",
     "text": [
      "C:\\Users\\jas\\AppData\\Local\\Continuum\\anaconda3\\lib\\site-packages\\sklearn\\model_selection\\_split.py:1978: FutureWarning: The default value of cv will change from 3 to 5 in version 0.22. Specify it explicitly to silence this warning.\n",
      "  warnings.warn(CV_WARNING, FutureWarning)\n"
     ]
    },
    {
     "name": "stdout",
     "output_type": "stream",
     "text": [
      "{'bootstrap': True, 'max_depth': 5, 'n_estimators': 30}\n",
      "Random Forest Regressor:  0.8266118355576431\n"
     ]
    }
   ],
   "source": [
    "#Create and Fit a Regressor Object\n",
    "from sklearn.ensemble import RandomForestRegressor\n",
    "regObj = RandomForestRegressor()\n",
    "grid_param = {  \n",
    "    'n_estimators': [1, 2, 3, 4, 5, 6, 7, 8, 9, 10, 15, 20, 25, 30, 40, 50, 60, 70, 80, 90, 100, 110],\n",
    "    'max_depth': [2, 3 ,4, 5, 10, 15, 20],\n",
    "    'bootstrap': [True, False]\n",
    "}\n",
    "\n",
    "from sklearn.model_selection import GridSearchCV\n",
    "gd_sr = GridSearchCV(estimator=regObj, param_grid=grid_param, n_jobs=-1)\n",
    "gd_sr.fit(X_train, y_train) \n",
    "print(gd_sr.best_params_)  \n",
    "print('Random Forest Regressor: ', gd_sr.score(X_test, y_test))"
   ]
  },
  {
   "cell_type": "code",
   "execution_count": 33,
   "metadata": {},
   "outputs": [
    {
     "name": "stdout",
     "output_type": "stream",
     "text": [
      "n_estimators =  1\n",
      "Model Accuracy =  0.7596333258082739\n",
      "n_estimators =  2\n",
      "Model Accuracy =  0.828257903395721\n",
      "n_estimators =  3\n",
      "Model Accuracy =  0.8341478919731569\n",
      "n_estimators =  4\n",
      "Model Accuracy =  0.8245393657174941\n",
      "n_estimators =  5\n",
      "Model Accuracy =  0.8344315647296674\n",
      "n_estimators =  6\n",
      "Model Accuracy =  0.8182305465814971\n",
      "n_estimators =  7\n",
      "Model Accuracy =  0.8307843154135405\n",
      "n_estimators =  8\n",
      "Model Accuracy =  0.8279442342426953\n",
      "n_estimators =  9\n",
      "Model Accuracy =  0.8260209476674291\n",
      "n_estimators =  10\n",
      "Model Accuracy =  0.8251857062069708\n",
      "n_estimators =  11\n",
      "Model Accuracy =  0.8233952775137913\n",
      "n_estimators =  12\n",
      "Model Accuracy =  0.8280828493708069\n",
      "n_estimators =  13\n",
      "Model Accuracy =  0.8173956873343795\n",
      "n_estimators =  14\n",
      "Model Accuracy =  0.8264599235772428\n",
      "n_estimators =  15\n",
      "Model Accuracy =  0.8289307174574312\n",
      "n_estimators =  16\n",
      "Model Accuracy =  0.823226070543917\n",
      "n_estimators =  17\n",
      "Model Accuracy =  0.831245106232053\n",
      "Model Selection: i would go with degree value =1\n"
     ]
    },
    {
     "data": {
      "image/png": "[encoded data removed]",
      "text/plain": [
       "<Figure size 432x288 with 1 Axes>"
      ]
     },
     "metadata": {
      "needs_background": "light"
     },
     "output_type": "display_data"
    }
   ],
   "source": [
    "k = 18\n",
    "i = 1\n",
    "\n",
    "while i < k:\n",
    "    regObj2 = RandomForestRegressor(n_estimators = i, max_depth=4, bootstrap=True) \n",
    "    regObj2.fit(X_train, y_train)\n",
    "\n",
    "    #Making predictions on the Test Set \n",
    "    y_pred = regObj2.predict(X_test)\n",
    "    #Print Model Accuracy \n",
    "    print('n_estimators = ',i)\n",
    "    print('Model Accuracy = ', regObj2.score(X_test,y_test))\n",
    "\n",
    "    # Visualizing the Test set results\n",
    "    x=i\n",
    "    y= round(regObj2.score(X_test,y_test),3)\n",
    "    plt.scatter(x, y)\n",
    "    plt.grid()\n",
    "    plt.xlabel('Degree value')\n",
    "    plt.ylabel('Accuracy')\n",
    "    plt.text(x-0.002, y-0.002, y, fontsize=9)\n",
    "       \n",
    "    i += 1\n",
    "\n",
    "print('Model Selection: i would go with degree value =3')"
   ]
  },
  {
   "cell_type": "code",
   "execution_count": 9,
   "metadata": {},
   "outputs": [
    {
     "name": "stdout",
     "output_type": "stream",
     "text": [
      "Poly degree =  0 : -0.0005299899951991538\n",
      "Poly degree =  1 : 0.8355390116130667\n",
      "Poly degree =  2 : -9.888950912935312e+21\n",
      "Poly degree =  3 : -1.2659447969873738e+19\n",
      "Poly degree =  4 : -2036057576023.7292\n"
     ]
    }
   ],
   "source": [
    "import numpy as np\n",
    "import pandas as pd\n",
    "%matplotlib inline\n",
    "import matplotlib.pyplot as plt\n",
    "from sklearn.model_selection import train_test_split\n",
    "from sklearn import datasets\n",
    "from sklearn.metrics import mean_squared_error\n",
    "from sklearn.preprocessing import PolynomialFeatures\n",
    "from sklearn.linear_model import LinearRegression\n",
    "from sklearn.pipeline import make_pipeline\n",
    "\n",
    "for degree in [0,1,2,3,4]:\n",
    "\n",
    "    model = make_pipeline(PolynomialFeatures(degree), LinearRegression())\n",
    "\n",
    "    model.fit(X_train,y_train)\n",
    "    print('Poly degree = ', degree,':', model.score(X_test, y_test))"
   ]
  },
  {
   "cell_type": "code",
   "execution_count": 10,
   "metadata": {},
   "outputs": [
    {
     "name": "stdout",
     "output_type": "stream",
     "text": [
      "Ridge:  0.8354850949140552\n"
     ]
    }
   ],
   "source": [
    "#Polynomial Regression with Ridge \n",
    "from sklearn.preprocessing import PolynomialFeatures \n",
    "from sklearn.linear_model import Ridge \n",
    "polyFeatureObj = PolynomialFeatures(degree=1) \n",
    "#X_polyRidge = polyFeatureObj.fit_transform(X_train) \n",
    "ridgeObj = Ridge() \n",
    "ridgeObj.fit(X_train, y_train)\n",
    "\n",
    "print('Ridge: ',ridgeObj.score(X_test, y_test))"
   ]
  },
  {
   "cell_type": "code",
   "execution_count": 11,
   "metadata": {},
   "outputs": [
    {
     "name": "stdout",
     "output_type": "stream",
     "text": [
      "Lasso:  0.8355412101431431\n"
     ]
    }
   ],
   "source": [
    "from sklearn.linear_model import Lasso\n",
    "lassoObj= Lasso()\n",
    "lassoObj.fit(X_train, y_train)\n",
    "\n",
    "print('Lasso: ',lassoObj.score(X_test, y_test))"
   ]
  },
  {
   "cell_type": "code",
   "execution_count": 12,
   "metadata": {},
   "outputs": [
    {
     "name": "stdout",
     "output_type": "stream",
     "text": [
      "ElasticNet:  0.8355412101431431\n"
     ]
    }
   ],
   "source": [
    "#Polynomial Regression with ElasticNet \n",
    "from sklearn.linear_model import ElasticNet \n",
    "enObj = ElasticNet(l1_ratio=1) \n",
    "enObj.fit(X_train, y_train)\n",
    "\n",
    "print('ElasticNet: ',enObj.score(X_test, y_test))"
   ]
  },
  {
   "cell_type": "code",
   "execution_count": 31,
   "metadata": {},
   "outputs": [
    {
     "name": "stdout",
     "output_type": "stream",
     "text": [
      "5508 29th Ave S =  298388  Actual Sales Price = 330000  Difference = -31612 /%Dif =  -0.09579393939393943\n",
      "5200 39th Ave S =  267522  Actual Sales Price = 315000  Difference = -47478 /%Dif =  -0.15072380952380948\n",
      "5833 11th Ave S =  467916  Actual Sales Price = 430000  Difference = 37916 /%Dif =  0.0881767441860466\n",
      "3333 Irving Ave S =  591674  Actual Sales Price = 625000  Difference = -33326 /%Dif =  -0.05332159999999997\n"
     ]
    }
   ],
   "source": [
    "xtest1 = ([[0,0,0,0,0,1,0,0,0,0,0,0,0,0,1,1563,50094,2,1,0,265000]])\n",
    "X_test2 = sc_X.transform(xtest1)\n",
    "ypred1 = enObj.predict(X_test2)\n",
    "print('5508 29th Ave S = ',int(ypred1), \" Actual Sales Price = 330000\", \" Difference =\",int(ypred1)-330000, \"/%Dif = \",(int(ypred1)/330000)-1)\n",
    "\n",
    "xtest1a = ([[0,0,0,0,0,1,0,0,0,0,0,0,0,0,1,1096,5120,1,1.2,0,269000]])\n",
    "X_test2a = sc_X.transform(xtest1a)\n",
    "ypred2 = enObj.predict(X_test2a)\n",
    "print('5200 39th Ave S = ',int(ypred2), \" Actual Sales Price = 315000\", \" Difference =\",int(ypred2)-315000, \"/%Dif = \",(int(ypred2)/315000)-1)\n",
    "\n",
    "xtest1b = ([[0,0,0,0,0,1,0,0,0,0,0,0,0,0,1,2465,5935,2,1.2,1,426500]])\n",
    "X_test2b = sc_X.transform(xtest1b)\n",
    "ypred3 = enObj.predict(X_test2b)\n",
    "print('5833 11th Ave S = ',int(ypred3), \" Actual Sales Price = 430000\", \" Difference =\",int(ypred3)-430000, \"/%Dif = \",(int(ypred3)/430000)-1)\n",
    "\n",
    "xtest1c = ([[1,0,0,0,0,0,0,0,0,0,0,0,0,0,1,2103,5227,2,2.5,1,611500]])\n",
    "X_test2c = sc_X.transform(xtest1c)\n",
    "ypred4 = enObj.predict(X_test2c)\n",
    "print('3333 Irving Ave S = ',int(ypred4), \" Actual Sales Price = 625000\", \" Difference =\",int(ypred4)-625000, \"/%Dif = \",(int(ypred4)/625000)-1)"
   ]
  },
  {
   "cell_type": "code",
   "execution_count": null,
   "metadata": {},
   "outputs": [],
   "source": []
  }
 ],
 "metadata": {
  "kernelspec": {
   "display_name": "Python 3",
   "language": "python",
   "name": "python3"
  },
  "language_info": {
   "codemirror_mode": {
    "name": "ipython",
    "version": 3
   },
   "file_extension": ".py",
   "mimetype": "text/x-python",
   "name": "python",
   "nbconvert_exporter": "python",
   "pygments_lexer": "ipython3",
   "version": "3.7.4"
  }
 },
 "nbformat": 4,
 "nbformat_minor": 2
}
