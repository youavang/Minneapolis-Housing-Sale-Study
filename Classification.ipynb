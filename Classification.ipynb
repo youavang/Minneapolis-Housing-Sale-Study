{
 "cells": [
  {
   "cell_type": "code",
   "execution_count": 3,
   "metadata": {},
   "outputs": [
    {
     "name": "stdout",
     "output_type": "stream",
     "text": [
      "[-0.29 -0.38 -0.35 -0.29 -0.27  2.49 -0.31 -0.34 -0.42 -0.21 -0.11 -0.22\n",
      " -0.25 -0.09  0.38 -0.11 -0.34 -0.86  1.4   0.94 -0.01]\n",
      "0\n"
     ]
    },
    {
     "name": "stderr",
     "output_type": "stream",
     "text": [
      "C:\\Users\\jas\\AppData\\Local\\Continuum\\anaconda3\\lib\\site-packages\\pandas\\core\\generic.py:6287: SettingWithCopyWarning: \n",
      "A value is trying to be set on a copy of a slice from a DataFrame\n",
      "\n",
      "See the caveats in the documentation: http://pandas.pydata.org/pandas-docs/stable/user_guide/indexing.html#returning-a-view-versus-a-copy\n",
      "  self._update_inplace(new_data)\n",
      "C:\\Users\\jas\\AppData\\Local\\Continuum\\anaconda3\\lib\\site-packages\\sklearn\\utils\\deprecation.py:66: DeprecationWarning: Class Imputer is deprecated; Imputer was deprecated in version 0.20 and will be removed in 0.22. Import impute.SimpleImputer from sklearn instead.\n",
      "  warnings.warn(msg, category=DeprecationWarning)\n",
      "C:\\Users\\jas\\AppData\\Local\\Continuum\\anaconda3\\lib\\site-packages\\sklearn\\preprocessing\\_encoders.py:415: FutureWarning: The handling of integer data will change in version 0.22. Currently, the categories are determined based on the range [0, max(values)], while in the future they will be determined based on the unique values.\n",
      "If you want the future behaviour and silence this warning, you can specify \"categories='auto'\".\n",
      "In case you used a LabelEncoder before this OneHotEncoder to convert the categories to integers, then you can now use the OneHotEncoder directly.\n",
      "  warnings.warn(msg, FutureWarning)\n",
      "C:\\Users\\jas\\AppData\\Local\\Continuum\\anaconda3\\lib\\site-packages\\sklearn\\preprocessing\\_encoders.py:451: DeprecationWarning: The 'categorical_features' keyword is deprecated in version 0.20 and will be removed in 0.22. You can use the ColumnTransformer instead.\n",
      "  \"use the ColumnTransformer instead.\", DeprecationWarning)\n"
     ]
    }
   ],
   "source": [
    "import numpy as np\n",
    "import matplotlib.pyplot as plt\n",
    "import pandas as pd\n",
    "\n",
    "dataset = pd.read_csv('Master_File_Housing_Data_LogisticReg2.csv')\n",
    "\n",
    "df= dataset.dropna(how='any', subset=['CONSTRUCTIONTYPE'])\n",
    "df['BELOWGROUNDAREA'].fillna(0,inplace=True)\n",
    "\n",
    "X = df.iloc[:,2:-2].values\n",
    "y = df.iloc[:,14].values\n",
    "\n",
    "from sklearn.preprocessing import Imputer\n",
    "imputer = Imputer(missing_values=np.nan, strategy='mean') \n",
    "imputer.fit(X[:,[1,3,5,6,7,8,10]])\n",
    "X[:,[1,3,5,6,7,8,10]]= imputer.transform(X[:,[1,3,5,6,7,8,10]])\n",
    "\n",
    "#print(X[0])\n",
    "from sklearn.preprocessing import LabelEncoder, OneHotEncoder\n",
    "labelencoder = LabelEncoder()\n",
    "X[:, 0] = labelencoder.fit_transform(X[:, 0])\n",
    "X[:, 9] = labelencoder.fit_transform(X[:, 9])\n",
    "\n",
    "from sklearn.preprocessing import OneHotEncoder\n",
    "onehotencoder = OneHotEncoder(categorical_features = [0,9])\n",
    "data = onehotencoder.fit_transform(X).toarray()\n",
    "#print(data[0])\n",
    "NewData = data[:,[0,1,2,3,4,5,6,8,9,10,11,12,14,15,16,17,18,19,20,21,22,23,24,25]]\n",
    "\n",
    "X_sig = NewData[:,[0,1,2,3,4,5,6,7,8,9,10,11,12,13,14,15,17,19,21,22,23]]\n",
    "\n",
    "from sklearn.model_selection import train_test_split\n",
    "X_train, X_test, y_train, y_test = train_test_split(X_sig,y,test_size=0.3,random_state=0)\n",
    "\n",
    "from sklearn.preprocessing import StandardScaler\n",
    "sc_X = StandardScaler()\n",
    "X_train = sc_X.fit_transform(X_train)\n",
    "X_test = sc_X.transform(X_test)\n",
    "\n",
    "print(X_train[0])\n",
    "print(y_train[0])\n"
   ]
  },
  {
   "cell_type": "code",
   "execution_count": 4,
   "metadata": {},
   "outputs": [
    {
     "name": "stderr",
     "output_type": "stream",
     "text": [
      "C:\\Users\\jas\\AppData\\Local\\Continuum\\anaconda3\\lib\\site-packages\\sklearn\\linear_model\\logistic.py:432: FutureWarning: Default solver will be changed to 'lbfgs' in 0.22. Specify a solver to silence this warning.\n",
      "  FutureWarning)\n"
     ]
    },
    {
     "name": "stdout",
     "output_type": "stream",
     "text": [
      "0.6072684642438453\n",
      "Confusion matrix, without normalization\n",
      "[[343 427]\n",
      " [243 693]]\n"
     ]
    },
    {
     "data": {
      "image/png": "[encoded data removed]",
      "text/plain": [
       "<Figure size 432x288 with 2 Axes>"
      ]
     },
     "metadata": {
      "needs_background": "light"
     },
     "output_type": "display_data"
    }
   ],
   "source": [
    "#Fitting Logistic Regression to Training Set\n",
    "from sklearn.linear_model import LogisticRegression\n",
    "classifierObj = LogisticRegression(random_state=0)\n",
    "classifierObj.fit(X_train, y_train)\n",
    "\n",
    "#Making predictions on the Test Set\n",
    "y_pred = classifierObj.predict(X_test)\n",
    "\n",
    "\n",
    "#Model Accuracy\n",
    "print(classifierObj.score(X_test,y_test))\n",
    "\n",
    "\n",
    "import itertools\n",
    "import numpy as np\n",
    "import matplotlib.pyplot as plt\n",
    "\n",
    "import numpy as np\n",
    "import matplotlib.pyplot as plt\n",
    "from sklearn import svm, datasets\n",
    "from sklearn.model_selection import train_test_split\n",
    "from sklearn.metrics import confusion_matrix\n",
    "from sklearn.utils.multiclass import unique_labels\n",
    "class_names=[\"Not Sell\",\"Sell\"]\n",
    "\n",
    "def plot_confusion_matrix(y_true, y_pred, classes,\n",
    "                          normalize=False,\n",
    "                          title=None,\n",
    "                          cmap=plt.cm.Blues):\n",
    "\n",
    "    if not title:\n",
    "        if normalize:\n",
    "            title = 'Normalized confusion matrix'\n",
    "        else:\n",
    "            title = 'Confusion matrix, without normalization'\n",
    "\n",
    "    # Compute confusion matrix\n",
    "    cm = confusion_matrix(y_test, y_pred)\n",
    "    # Only use the labels that appear in the data\n",
    "    classes = class_names\n",
    "    if normalize:\n",
    "        cm = cm.astype('float') / cm.sum(axis=1)[:, np.newaxis]\n",
    "        print(\"Normalized confusion matrix\")\n",
    "    else:\n",
    "        print('Confusion matrix, without normalization')\n",
    "\n",
    "    print(cm)\n",
    "\n",
    "    fig, ax = plt.subplots()\n",
    "    im = ax.imshow(cm, interpolation='nearest', cmap=cmap)\n",
    "    ax.figure.colorbar(im, ax=ax)\n",
    "    # We want to show all ticks...\n",
    "    ax.set(xticks=np.arange(cm.shape[1]),\n",
    "           yticks=np.arange(cm.shape[0]),\n",
    "           # ... and label them with the respective list entries\n",
    "           xticklabels=classes, yticklabels=classes,\n",
    "           title=title,\n",
    "           ylabel='True label',\n",
    "           xlabel='Predicted label')\n",
    "\n",
    "    # Rotate the tick labels and set their alignment.\n",
    "    plt.setp(ax.get_xticklabels(), rotation=45, ha=\"right\",\n",
    "             rotation_mode=\"anchor\")\n",
    "\n",
    "    # Loop over data dimensions and create text annotations.\n",
    "    fmt = '.2f' if normalize else 'd'\n",
    "    thresh = cm.max() / 2.\n",
    "    for i in range(cm.shape[0]):\n",
    "        for j in range(cm.shape[1]):\n",
    "            ax.text(j, i, format(cm[i, j], fmt),\n",
    "                    ha=\"center\", va=\"center\",\n",
    "                    color=\"white\" if cm[i, j] > thresh else \"black\")\n",
    "    fig.tight_layout()\n",
    "    plt.xlim(-0.5, len(np.unique(y))-0.5) # ADD THIS LINE\n",
    "    plt.ylim(len(np.unique(y))-0.5, -0.5) # ADD THIS LINE\n",
    "    return ax\n",
    "\n",
    "np.set_printoptions(precision=2)\n",
    "\n",
    "# Plot non-normalized confusion matrix\n",
    "plot_confusion_matrix(y_test, y_pred, classes=class_names,\n",
    "                      title='Logistic Regression: Confusion matrix')\n",
    "\n",
    "plt.show()"
   ]
  },
  {
   "cell_type": "code",
   "execution_count": 5,
   "metadata": {},
   "outputs": [
    {
     "name": "stdout",
     "output_type": "stream",
     "text": [
      "0.5779601406799532\n"
     ]
    }
   ],
   "source": [
    "#Fitting Classifier to Training Set. Create a classifier object here and call it classifierObj\n",
    "from sklearn.svm import SVC\n",
    "classifierObj = SVC(kernel='linear')\n",
    "classifierObj.fit(X_train, y_train)\n",
    "\n",
    "#Making predictions on the Test Set\n",
    "y_pred = classifierObj.predict(X_test)\n",
    "\n",
    "#Evaluating the predictions using a Confusion Matrix\n",
    "from sklearn.metrics import confusion_matrix\n",
    "cm = confusion_matrix(y_test, y_pred)\n",
    "cm\n",
    "\n",
    "#Model Accuracy\n",
    "print(classifierObj.score(X_test,y_test))"
   ]
  },
  {
   "cell_type": "code",
   "execution_count": 6,
   "metadata": {},
   "outputs": [
    {
     "name": "stdout",
     "output_type": "stream",
     "text": [
      "0.5486518171160609\n",
      "0.570926143024619\n",
      "0.5650644783118406\n",
      "0.5978898007033998\n",
      "0.593200468933177\n",
      "0.6078546307151231\n",
      "0.5885111371629543\n",
      "0.5826494724501758\n",
      "0.5756154747948418\n",
      "0.5679953106682297\n",
      "The value of degree that gives you the best accuracy is 4.\n"
     ]
    },
    {
     "data": {
      "image/png": "[encoded data removed]",
      "text/plain": [
       "<Figure size 432x288 with 1 Axes>"
      ]
     },
     "metadata": {
      "needs_background": "light"
     },
     "output_type": "display_data"
    }
   ],
   "source": [
    "#Fitting Classifier to Training Set. Create a classifier object here and call it classifierObj\n",
    "from sklearn.svm import SVC\n",
    "from matplotlib.colors import ListedColormap\n",
    "\n",
    "for i in (0,1,2,3,4,5,6,7,8,9):\n",
    "    classifierObj = SVC(kernel='poly', degree = i)\n",
    "    classifierObj.fit(X_train, y_train)\n",
    "    print(classifierObj.score(X_test,y_test))\n",
    "    plt.scatter(x = i,y =classifierObj.score(X_test,y_test))\n",
    "    plt.xlabel('Degree')\n",
    "    plt.ylabel('Accuracy')\n",
    "    \n",
    "    \n",
    "\n",
    "\n",
    "#Making predictions on the Test Set\n",
    "y_pred = classifierObj.predict(X_test)\n",
    "\n",
    "#Evaluating the predictions using a Confusion Matrix\n",
    "from sklearn.metrics import confusion_matrix\n",
    "cm = confusion_matrix(y_test, y_pred)\n",
    "cm\n",
    "\n",
    "print(\"The value of degree that gives you the best accuracy is 4.\")"
   ]
  },
  {
   "cell_type": "code",
   "execution_count": 7,
   "metadata": {},
   "outputs": [
    {
     "name": "stdout",
     "output_type": "stream",
     "text": [
      "0.6178194607268465\n",
      "Confusion matrix, without normalization\n",
      "[[346 424]\n",
      " [228 708]]\n"
     ]
    },
    {
     "data": {
      "image/png": "[encoded data removed]",
      "text/plain": [
       "<Figure size 432x288 with 2 Axes>"
      ]
     },
     "metadata": {
      "needs_background": "light"
     },
     "output_type": "display_data"
    }
   ],
   "source": [
    "#Fitting Classifier to Training Set. Create a classifier object here and call it classifierObj\n",
    "from sklearn.svm import SVC\n",
    "classifierObj = SVC(kernel='rbf', degree = 9)\n",
    "classifierObj.fit(X_train, y_train)\n",
    "\n",
    "\n",
    "#Making predictions on the Test Set\n",
    "y_pred = classifierObj.predict(X_test)\n",
    "\n",
    "#Evaluating the predictions using a Confusion Matrix\n",
    "from sklearn.metrics import confusion_matrix\n",
    "cm = confusion_matrix(y_test, y_pred)\n",
    "cm\n",
    "\n",
    "#Model Accuracy\n",
    "print(classifierObj.score(X_test,y_test))\n",
    "\n",
    "import numpy as np\n",
    "import matplotlib.pyplot as plt\n",
    "from sklearn import svm, datasets\n",
    "from sklearn.model_selection import train_test_split\n",
    "from sklearn.metrics import confusion_matrix\n",
    "from sklearn.utils.multiclass import unique_labels\n",
    "class_names=[\"Not Sell\",\"Sell\"]\n",
    "\n",
    "def plot_confusion_matrix(y_true, y_pred, classes,\n",
    "                          normalize=False,\n",
    "                          title=None,\n",
    "                          cmap=plt.cm.Blues):\n",
    "\n",
    "    if not title:\n",
    "        if normalize:\n",
    "            title = 'Normalized confusion matrix'\n",
    "        else:\n",
    "            title = 'Confusion matrix, without normalization'\n",
    "\n",
    "    # Compute confusion matrix\n",
    "    cm = confusion_matrix(y_test, y_pred)\n",
    "    # Only use the labels that appear in the data\n",
    "    classes = class_names\n",
    "    if normalize:\n",
    "        cm = cm.astype('float') / cm.sum(axis=1)[:, np.newaxis]\n",
    "        print(\"Normalized confusion matrix\")\n",
    "    else:\n",
    "        print('Confusion matrix, without normalization')\n",
    "\n",
    "    print(cm)\n",
    "\n",
    "    fig, ax = plt.subplots()\n",
    "    im = ax.imshow(cm, interpolation='nearest', cmap=cmap)\n",
    "    ax.figure.colorbar(im, ax=ax)\n",
    "    # We want to show all ticks...\n",
    "    ax.set(xticks=np.arange(cm.shape[1]),\n",
    "           yticks=np.arange(cm.shape[0]),\n",
    "           # ... and label them with the respective list entries\n",
    "           xticklabels=classes, yticklabels=classes,\n",
    "           title=title,\n",
    "           ylabel='True label',\n",
    "           xlabel='Predicted label')\n",
    "\n",
    "    # Rotate the tick labels and set their alignment.\n",
    "    plt.setp(ax.get_xticklabels(), rotation=45, ha=\"right\",\n",
    "             rotation_mode=\"anchor\")\n",
    "\n",
    "    # Loop over data dimensions and create text annotations.\n",
    "    fmt = '.2f' if normalize else 'd'\n",
    "    thresh = cm.max() / 2.\n",
    "    for i in range(cm.shape[0]):\n",
    "        for j in range(cm.shape[1]):\n",
    "            ax.text(j, i, format(cm[i, j], fmt),\n",
    "                    ha=\"center\", va=\"center\",\n",
    "                    color=\"white\" if cm[i, j] > thresh else \"black\")\n",
    "    fig.tight_layout()\n",
    "    plt.xlim(-0.5, len(np.unique(y))-0.5) # ADD THIS LINE\n",
    "    plt.ylim(len(np.unique(y))-0.5, -0.5) # ADD THIS LINE\n",
    "    return ax\n",
    "\n",
    "np.set_printoptions(precision=2)\n",
    "\n",
    "# Plot non-normalized confusion matrix\n",
    "plot_confusion_matrix(y_test, y_pred, classes=class_names,\n",
    "                      title='Logistic Regression: Confusion matrix')\n",
    "\n",
    "plt.show()"
   ]
  },
  {
   "cell_type": "code",
   "execution_count": 17,
   "metadata": {},
   "outputs": [
    {
     "name": "stdout",
     "output_type": "stream",
     "text": [
      "0.5844079718640094\n",
      "0.5873388042203986\n",
      "0.5949589683470106\n",
      "0.5961313012895663\n",
      "0.5984759671746777\n",
      "0.5943728018757327\n",
      "0.5949589683470106\n",
      "0.604337631887456\n",
      "0.604337631887456\n",
      "0.604337631887456\n",
      "0.5984759671746777\n",
      "0.597303634232122\n",
      "0.604337631887456\n",
      "0.5937866354044549\n",
      "0.5955451348182884\n",
      "0.5885111371629543\n",
      "0.5937866354044549\n",
      "0.5873388042203986\n",
      "0.5861664712778429\n",
      "The value of k that gives you the best accuracy is 41.\n"
     ]
    },
    {
     "data": {
      "image/png": "[encoded data removed]",
      "text/plain": [
       "<Figure size 432x288 with 1 Axes>"
      ]
     },
     "metadata": {
      "needs_background": "light"
     },
     "output_type": "display_data"
    }
   ],
   "source": [
    "#Fitting Classifier to Training Set. Create a classifier object here and call it classifierObj\n",
    "from sklearn.neighbors import KNeighborsClassifier\n",
    "for i in (10, 15, 20, 25, 30, 35, 40, 45, 50, 55, 60, 65, 70, 75, 80, 85, 90, 95, 100):\n",
    "    classifierObj = KNeighborsClassifier(n_neighbors= i, p = 2, metric='minkowski')\n",
    "    classifierObj.fit(X_train, y_train)\n",
    "    print(classifierObj.score(X_test,y_test))\n",
    "    plt.scatter(x = i,y =classifierObj.score(X_test,y_test))\n",
    "    plt.xlabel('k')\n",
    "    plt.ylabel('Accuracy')\n",
    "    \n",
    "\n",
    "print(\"The value of k that gives you the best accuracy is 45, 50, 55, 70.\")"
   ]
  },
  {
   "cell_type": "code",
   "execution_count": 9,
   "metadata": {},
   "outputs": [
    {
     "name": "stdout",
     "output_type": "stream",
     "text": [
      "0.5691676436107854\n"
     ]
    }
   ],
   "source": [
    "#Fitting Classifier to Training Set. Create a classifier object here and call it classifierObj\n",
    "from sklearn.naive_bayes import GaussianNB\n",
    "classifierObj = GaussianNB()\n",
    "classifierObj.fit(X_train, y_train)\n",
    "\n",
    "#Making predictions on the Test Set\n",
    "y_pred = classifierObj.predict(X_test)\n",
    "\n",
    "#Model Accuracy\n",
    "print(classifierObj.score(X_test,y_test))"
   ]
  },
  {
   "cell_type": "code",
   "execution_count": 10,
   "metadata": {},
   "outputs": [
    {
     "name": "stdout",
     "output_type": "stream",
     "text": [
      "0.5691676436107854\n"
     ]
    }
   ],
   "source": [
    "#Fitting Classifier to Training Set. Create a classifier object here and call it classifierObj\n",
    "from sklearn.tree import DecisionTreeClassifier\n",
    "classifierObj = DecisionTreeClassifier(criterion='entropy')\n",
    "classifierObj.fit(X_train,y_train)\n",
    "\n",
    "#Making predictions on the Test Set\n",
    "y_pred = classifierObj.predict(X_test)\n",
    "\n",
    "#Model Accuracy\n",
    "print(classifierObj.score(X_test,y_test))"
   ]
  },
  {
   "cell_type": "code",
   "execution_count": 11,
   "metadata": {
    "scrolled": true
   },
   "outputs": [
    {
     "name": "stdout",
     "output_type": "stream",
     "text": [
      "0.5515826494724502\n",
      "0.5984759671746777\n",
      "0.6037514654161782\n",
      "0.5914419695193435\n",
      "0.5750293083235639\n",
      "0.6072684642438453\n",
      "0.5920281359906213\n",
      "0.6184056271981243\n",
      "0.5984759671746777\n",
      "0.6019929660023446\n",
      "0.6060961313012896\n",
      "0.6131301289566237\n",
      "0.6090269636576788\n",
      "0.6060961313012896\n",
      "0.6037514654161782\n",
      "0.604337631887456\n",
      "0.6113716295427901\n",
      "The value of n_estimators that gives you the best accuracy is changing with each run, but is currently 60.\n"
     ]
    },
    {
     "data": {
      "image/png": "[encoded data removed]",
      "text/plain": [
       "<Figure size 432x288 with 1 Axes>"
      ]
     },
     "metadata": {
      "needs_background": "light"
     },
     "output_type": "display_data"
    }
   ],
   "source": [
    "#Fitting Classifier to Training Set. Create a classifier object here and call it classifierObj\n",
    "from sklearn.ensemble import RandomForestClassifier\n",
    "for i in (2, 5, 7, 8, 10, 15, 20, 25, 30, 40, 50, 60, 70, 80, 90, 100, 110):\n",
    "    classifierObj = RandomForestClassifier(criterion='entropy', n_estimators = i)\n",
    "    classifierObj.fit(X_train,y_train)\n",
    "    print(classifierObj.score(X_test,y_test))\n",
    "    plt.scatter(x = i,y =classifierObj.score(X_test,y_test))\n",
    "    plt.xlabel('n_estimators')\n",
    "    plt.ylabel('Accuracy')\n",
    "    \n",
    "\n",
    "print(\"The value of n_estimators that gives you the best accuracy is changing with each run, but is currently 60.\")\n"
   ]
  },
  {
   "cell_type": "code",
   "execution_count": 12,
   "metadata": {},
   "outputs": [
    {
     "name": "stdout",
     "output_type": "stream",
     "text": [
      "{'bootstrap': True, 'criterion': 'gini', 'n_estimators': 100}\n",
      "0.6219205630970337\n"
     ]
    }
   ],
   "source": [
    "\n",
    "\n",
    "#Fitting Classifier to Training Set. Create a classifier object here and call it classifierObj\n",
    "from sklearn.ensemble import RandomForestClassifier\n",
    "classifierObj = RandomForestClassifier()\n",
    "\n",
    "grid_param = {  \n",
    "    'n_estimators': [10, 15, 20, 25, 30, 40, 50, 60, 70, 80, 90, 100, 110, 120, 130, 140, 150, 160, 170, 180, 190, 200],\n",
    "    'criterion': ['gini', 'entropy'],\n",
    "    'bootstrap': [True, False]\n",
    "}\n",
    "\n",
    "from sklearn.model_selection import GridSearchCV\n",
    "gd_sr = GridSearchCV(estimator=classifierObj, param_grid=grid_param, scoring='accuracy', cv=5, n_jobs=-1)\n",
    "gd_sr.fit(X_train, y_train) \n",
    "print(gd_sr.best_params_)  \n",
    "print(gd_sr.best_score_)\n"
   ]
  },
  {
   "cell_type": "code",
   "execution_count": 18,
   "metadata": {},
   "outputs": [
    {
     "name": "stdout",
     "output_type": "stream",
     "text": [
      "0.6055099648300117\n"
     ]
    }
   ],
   "source": [
    "classifierObj = RandomForestClassifier(bootstrap=True, criterion='entropy', n_estimators = 190)\n",
    "classifierObj.fit(X_train,y_train)\n",
    "print(classifierObj.score(X_test,y_test))"
   ]
  },
  {
   "cell_type": "code",
   "execution_count": 42,
   "metadata": {},
   "outputs": [
    {
     "name": "stdout",
     "output_type": "stream",
     "text": [
      "5508 29th Ave S =  [0]  Assessed Price w/ 3%=  272950.0 Profit:  57050.0  Predict [1]\n",
      "5200 39th Ave S =  [0]  Assessed Price w/ 3%=  277070.0 Profit:  37930.0  Predict [1]\n",
      "5833 11th Ave S =  [0]  Assessed Price w/ 3%=  439295.0 Profit:  -9295.0  Predict [0]\n",
      "3333 Irving Ave S =  [0]  Assessed Price w/ 3%=  629845.0 Profit:  -4845.0  Predict [0]\n",
      "Our Model is 50% on this small sample size\n"
     ]
    }
   ],
   "source": [
    "xtest1 = ([[0,0,0,0,0,1,0,0,0,0,0,0,0,0,1,1563,50094,2,1,0,(265000*1.03)]])\n",
    "X_test2 = sc_X.transform(xtest1)\n",
    "ypred1 = gd_sr.predict(X_test2)\n",
    "print('5508 29th Ave S = ',ypred1, \" Assessed Price w/ 3%= \",265000*1.03, \"Profit: \",330000-(265000*1.03), \" Predict [1]\")\n",
    "\n",
    "xtest1a = ([[0,0,0,0,0,1,0,0,0,0,0,0,0,0,1,1096,5120,1,1.2,0,(269000*1.03)]])\n",
    "X_test2a = sc_X.transform(xtest1a)\n",
    "ypred2 = gd_sr.predict(X_test2a)\n",
    "print('5200 39th Ave S = ',ypred2 , \" Assessed Price w/ 3%= \",269000*1.03, \"Profit: \",315000-(269000*1.03), \" Predict [1]\")\n",
    "\n",
    "xtest1b = ([[0,0,0,0,0,1,0,0,0,0,0,0,0,0,1,2465,5935,2,1.2,1,(426500*1.03)]])\n",
    "X_test2b = sc_X.transform(xtest1b)\n",
    "ypred3 = gd_sr.predict(X_test2b)\n",
    "print('5833 11th Ave S = ',ypred3,  \" Assessed Price w/ 3%= \",426500*1.03, \"Profit: \",430000-(426500*1.03), \" Predict [0]\")\n",
    "\n",
    "xtest1c = ([[1,0,0,0,0,0,0,0,0,0,0,0,0,0,1,2103,5227,2,2.5,1,(611500*1.03)]])\n",
    "X_test2c = sc_X.transform(xtest1c)\n",
    "ypred4 = gd_sr.predict(X_test2c)\n",
    "print('3333 Irving Ave S = ',ypred4,  \" Assessed Price w/ 3%= \",611500*1.03, \"Profit: \",625000-(611500*1.03), \" Predict [0]\")\n",
    "\n",
    "print(\"Our Model is 50% on this small sample size\")"
   ]
  },
  {
   "cell_type": "code",
   "execution_count": null,
   "metadata": {},
   "outputs": [],
   "source": []
  }
 ],
 "metadata": {
  "kernelspec": {
   "display_name": "Python 3",
   "language": "python",
   "name": "python3"
  },
  "language_info": {
   "codemirror_mode": {
    "name": "ipython",
    "version": 3
   },
   "file_extension": ".py",
   "mimetype": "text/x-python",
   "name": "python",
   "nbconvert_exporter": "python",
   "pygments_lexer": "ipython3",
   "version": "3.7.4"
  }
 },
 "nbformat": 4,
 "nbformat_minor": 2
}
